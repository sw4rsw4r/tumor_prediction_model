{
 "cells": [
  {
   "cell_type": "markdown",
   "id": "e17d8760",
   "metadata": {},
   "source": [
    "# Points to mention from this task\n",
    "### (1) High dimension data\n",
    "\n",
    "Among all datasets provided, I chose 'Lung' since it has the largest sample size, and I did not use gene fusions because only few cell models share the same gene fusion and while encoding this information, the impact is not sure whether it is positive or negative. Although I chose Lung which has the largest sample size, only 175 samples are in the data and the feasure space is much higher. So, I strugged to deal with high dimensional issue in which I decided to argument the data so that the algorithm can learn something from the data and selected 50 top features at each data based on variance of it. \n",
    "\n",
    "Transformer algorithm itself requires many parameters to be learned, so it has a risk in overfitting. Therefore, I tried to simplify the architecture as much as possible. But there are still memory issues. Thus, I reduced the architecture and did not use some data unless it has clear relevance to the data. \n",
    "\n",
    "\n",
    "### (2) Memory issue\n",
    "\n",
    "On top of high dimensional issue, I used my personal computer, so there is a limited memory for GPU. I only have 4 GB GPU memory but more memory (64GB) in CPU. Thus, I tried to use them both if possible. If I can use HPC, then the algorithm would be more powerful in terms of performance. \n",
    "\n",
    "\n",
    "### (3) Hard to beat a linear model\n",
    "\n",
    "I started off with applying a linear model, and it showed actually great performance in any circumstances. So, I thought this data was synthetic data generated with strong impacts of linearity. When I checked the correlation between input and output, it was around 30%, so I guess there should be a space to learn non-linearity which is an edge from transformer. However, after implementing several variants of transformers, I came to think the impact from linear relation should be higher than non-linearity. Sometimes, it beats a linear model. However, the difference was negligible. So, I just showed the case of self attention reaching stably similar performance with a linear model. If I face this data in reality under the same constraints, I would just use a linear model. \n",
    "\n",
    "\n",
    "### (4) Alternative ideas\n",
    "\n",
    "I thought copy number variation and methylation is relevant to gene regulation. So, I believe there might be some non-linear relationship between both of these and transcriptomics. Therefore, I added cross-attention to them and self attention to others, and combined them together with outcome in the end. Due to lack of time and capacity in my computer, I was not able to put the results here. But the performance was similar and a bit less than self attention. I guess biologically it was meaningful approach, but it has much more parameters to learn because of cross-attention. With enough computational power, it should give us better results. \n",
    "\n",
    "Positional encoding was surprisingly working well. I thought the order of proteomics is random in the data. So, I decided not to use positional encoding, but it showed significant improvement in performance. However, I still think the data should be ordered biologically such as known relationships between different proteins. I wanted to combine transformer with graph attention network (GAT) by using STRING database which is protein-protein interaction network information. However, then I needed to use datasets out of lists provided. So, I do not think this is right aim of this task. If there is a possiblity to work further later, it might be interesting to integrate network information and learn network structure, and link those data to positional encoding in transformer. \n",
    "\n",
    "\n",
    "\n"
   ]
  },
  {
   "cell_type": "markdown",
   "id": "40cae6c4",
   "metadata": {},
   "source": [
    "# Implementation steps\n",
    "- [1] Load packages and define functions\n",
    "- [2] Load the config.yaml file\n",
    "- [3] Load and preprocess data\n",
    "- [4] Model training and evaluation\n",
    "- [5] Visualize the model performance for comparison\n",
    "- [6] Calculate R² scores for each feature and output a list of top-performing features"
   ]
  },
  {
   "cell_type": "markdown",
   "id": "596a66ce",
   "metadata": {},
   "source": [
    "## [1] Load packages and define functions"
   ]
  },
  {
   "cell_type": "code",
   "execution_count": 1,
   "id": "595fe413",
   "metadata": {},
   "outputs": [],
   "source": [
    "import tensorflow as tf\n",
    "from tensorflow.keras import layers\n",
    "import pandas as pd\n",
    "import numpy as np\n",
    "from scipy.stats import pearsonr\n",
    "from sklearn.metrics import r2_score\n",
    "from sklearn.linear_model import LinearRegression\n",
    "from sklearn.preprocessing import StandardScaler\n",
    "from sklearn.model_selection import KFold\n",
    "from tqdm.keras import TqdmCallback\n",
    "import yaml\n",
    "import os\n",
    "import psutil\n",
    "import matplotlib.pyplot as plt\n",
    "import seaborn as sns\n",
    "import random\n",
    "import optuna\n",
    "\n",
    "# Set up a mixed precision to reduce computational burden like memory issue\n",
    "from tensorflow.keras.mixed_precision import set_global_policy\n",
    "set_global_policy('mixed_float16')\n",
    "\n",
    "# Define a function to monitor and display the current memory usage of the running process\n",
    "def print_memory_usage():\n",
    "    process = psutil.Process(os.getpid())\n",
    "    mem_info = process.memory_info()\n",
    "    print(f\"Memory usage: {mem_info.rss / 1024**2:.2f} MB\")\n",
    "\n",
    "# Define a function to augment data by adding random noise for increased dataset size to avoid high-dimensional issue\n",
    "def augment_data(data, factor, seed):\n",
    "    np.random.seed(seed)\n",
    "    augmented = [data]\n",
    "    for _ in range(factor - 1):\n",
    "        noise = np.random.normal(0, 0.01, data.shape)\n",
    "        augmented.append(data + noise)\n",
    "    return np.concatenate(augmented, axis=0)\n",
    "\n",
    "### Self attention - I applied self attention to each dataset individually and combined them together with outcome after the self attention. \n",
    "# Define a positional encoding - In the begining, I did not use positional information since it is not aligned physical location or coexpression or somehting. But to get the benefit from transformer, I added it in the end and it turned out it has an impact on the performance. \n",
    "def positional_encoding(length, d_model):\n",
    "    \"\"\"sine and cosine based positional encoding\"\"\"\n",
    "    position = np.arange(length)[:, np.newaxis]\n",
    "    div_term = np.exp(np.arange(0, d_model, 2) * (-np.log(10000.0) / d_model))\n",
    "    pos_enc = np.zeros((length, d_model))\n",
    "    pos_enc[:, 0::2] = np.sin(position * div_term)\n",
    "    pos_enc[:, 1::2] = np.cos(position * div_term)\n",
    "    return tf.constant(pos_enc, dtype=tf.float16)[tf.newaxis, :, :]  # changed to float16 for memory issue \n",
    "\n",
    "# Define a self attention model function\n",
    "def build_self_attention_model(input_data, config):\n",
    "    inputs = {name: layers.Input(shape=(input_data[name].shape[1],)) for name in sorted(config['names'])}\n",
    "    d_model = config['d_model']\n",
    "    \n",
    "    reshaped = {name: layers.Reshape((input_data[name].shape[1], 1))(inputs[name]) for name in sorted(config['names'])}\n",
    "    embedded = {name: layers.Dense(d_model)(reshaped[name]) for name in sorted(config['names'])}\n",
    "    \n",
    "    attentions = {}\n",
    "    for name in sorted(config['names']):\n",
    "        x = embedded[name]\n",
    "        pos_enc = tf.keras.layers.Lambda(lambda x: positional_encoding(x.shape[1], d_model))(x)\n",
    "        x = x + pos_enc\n",
    "        \n",
    "        # 4th layer of attention + FFN(feed-forward network) with Pre-LN(pre-layer normalization) for stable optimization\n",
    "        for _ in range(4):\n",
    "            # Pre-LN for Attention\n",
    "            x_norm = layers.LayerNormalization()(x)\n",
    "            attn = layers.MultiHeadAttention(num_heads=config['num_heads'], key_dim=config['key_dim'])(x_norm, x_norm)\n",
    "            x = attn + x  # Residual connection\n",
    "            \n",
    "            # Pre-LN for FFN \n",
    "            x_norm = layers.LayerNormalization()(x)\n",
    "            ffn = layers.Dense(d_model * 4, activation='relu')(x_norm)\n",
    "            ffn = layers.Dense(d_model)(ffn)\n",
    "            x = ffn + x  # Residual connection\n",
    "        \n",
    "        attentions[name] = x\n",
    "    \n",
    "    # Combine and flatten data \n",
    "    combined = layers.Concatenate(axis=1)([attentions[name] for name in sorted(config['names'])])\n",
    "    flattened = layers.Flatten()(combined)\n",
    "    flattened = layers.Dropout(0.2)(flattened)\n",
    "    \n",
    "    # FC Layer\n",
    "    output = layers.Dense(outcome_data.shape[1], activation='linear')(flattened)\n",
    "    \n",
    "    # Create a Keras Model by specifying the inputs and outputs\n",
    "    model = tf.keras.Model(inputs=[inputs[name] for name in sorted(config['names'])], outputs=output)\n",
    "    \n",
    "    # Compile the model to configure it for training\n",
    "    model.compile(\n",
    "        optimizer=tf.keras.optimizers.Adam(learning_rate=config['training']['learning_rate'], clipnorm=1.0),\n",
    "        loss='mse'\n",
    "    )\n",
    "    return model\n",
    "\n",
    "# For comparison, I also run RNN as a standard seq2seq algorithm, but I expect the performance from RNN should be bad since it has a position dependency in the algorithm. However, my data is arranged randomly which is not ideal set-up for RNN. \n",
    "def build_rnn_model(input_data, config):\n",
    "    inputs = {name: layers.Input(shape=(input_data[name].shape[1], 1)) for name in sorted(config['names'])}\n",
    "    lstms = {name: layers.LSTM(config['lstm_units'])(inputs[name]) for name in sorted(config['names'])}\n",
    "    combined = layers.Concatenate()([lstms[name] for name in sorted(config['names'])])\n",
    "    output = layers.Dense(outcome_data.shape[1], activation='linear')(combined)\n",
    "    model = tf.keras.Model(inputs=[inputs[name] for name in sorted(config['names'])], outputs=output)\n",
    "    model.compile(optimizer=tf.keras.optimizers.Adam(learning_rate=config['training']['learning_rate']), loss='mse')\n",
    "    return model\n",
    "\n",
    "# Evaluation function - I used MSE, MAE, pearson correlation, and R2 as performance measures since this is a multivariate multiple regression problem. \n",
    "def evaluate_performance(true, pred, model_name, fold_results, fold, display_name=None):\n",
    "    mse_fn = tf.keras.losses.MeanSquaredError()\n",
    "    mse = mse_fn(true, pred).numpy()\n",
    "    mae = np.mean(np.abs(true - pred))\n",
    "    pearson_corrs = [pearsonr(true[:, i], pred[:, i])[0] for i in range(true.shape[1]) \n",
    "                     if not np.isnan(pearsonr(true[:, i], pred[:, i])[0])]\n",
    "    avg_pearson = np.mean(pearson_corrs)\n",
    "    r2 = r2_score(true, pred, multioutput='uniform_average')\n",
    "    display_name = display_name or model_name\n",
    "    print(f\"{display_name} Fold {fold} - MSE: {mse:.4f}, MAE: {mae:.4f}, Avg Pearson Correlation: {avg_pearson:.4f}, R² Score: {r2:.4f}\")\n",
    "    fold_results[model_name].append({'mse': mse, 'mae': mae, 'pearson': avg_pearson, 'r2': r2})\n",
    "    return mse, mae, avg_pearson, r2\n",
    "\n",
    "# Plotting function\n",
    "def plot_results(avg_results, models):\n",
    "    display_names = [m.replace('_', ' ').title() for m in models]\n",
    "    mse_values = [avg_results[m]['mse'] for m in models]\n",
    "    mae_values = [avg_results[m]['mae'] for m in models]\n",
    "    pearson_values = [avg_results[m]['pearson'] for m in models]\n",
    "    r2_values = [avg_results[m]['r2'] for m in models]\n",
    "\n",
    "    sns.set(style=\"whitegrid\")\n",
    "    fig, (ax1, ax2, ax3, ax4) = plt.subplots(1, 4, figsize=(20, 5))\n",
    "\n",
    "    sns.barplot(x=display_names, y=mse_values, ax=ax1, palette=\"Blues_d\")\n",
    "    ax1.set_title('Average Mean Squared Error (MSE)')\n",
    "    ax1.set_ylabel('MSE')\n",
    "\n",
    "    sns.barplot(x=display_names, y=mae_values, ax=ax2, palette=\"Purples_d\")\n",
    "    ax2.set_title('Average Mean Absolute Error (MAE)')\n",
    "    ax2.set_ylabel('MAE')\n",
    "\n",
    "    sns.barplot(x=display_names, y=pearson_values, ax=ax3, palette=\"Greens_d\")\n",
    "    ax3.set_title('Average Pearson Correlation')\n",
    "    ax3.set_ylabel('Pearson Correlation')\n",
    "\n",
    "    sns.barplot(x=display_names, y=r2_values, ax=ax4, palette=\"Reds_d\")\n",
    "    ax4.set_title('Average R² Score')\n",
    "    ax4.set_ylabel('R²')\n",
    "\n",
    "    plt.tight_layout()\n",
    "    plt.show()\n",
    "    \n",
    "def analyze_feature_performance(true, pred, feature_names=None, top_n=10):\n",
    "    \"\"\"\n",
    "    Calculate R² scores for each feature and output a list of top-performing features.\n",
    "    \n",
    "    Parameters:\n",
    "    - true: Ground truth values (test_outcome, shape: [n_samples, n_features])\n",
    "    - pred: Predicted values (self_pred, shape: [n_samples, n_features])\n",
    "    - feature_names: List of feature names (optional, defaults to indices if None)\n",
    "    - top_n: Number of top features to display (default: 10)\n",
    "    \"\"\"\n",
    "    # Calculate R² for each feature\n",
    "    feature_r2_scores = []\n",
    "    for i in range(true.shape[1]):\n",
    "        r2 = r2_score(true[:, i], pred[:, i])\n",
    "        feature_r2_scores.append((i, r2))\n",
    "    \n",
    "    # Sort features by R² in descending order and extract top_n\n",
    "    feature_r2_scores.sort(key=lambda x: x[1], reverse=True)\n",
    "    top_features = feature_r2_scores[:top_n]\n",
    "    \n",
    "    # Use feature names if provided, otherwise use indices\n",
    "    if feature_names is None:\n",
    "        feature_names = [f\"Feature_{i}\" for i in range(true.shape[1])]\n",
    "    \n",
    "    # Print results\n",
    "    print(f\"Top {top_n} Best Predicted Features:\")\n",
    "    for idx, r2 in top_features:\n",
    "        print(f\"  {feature_names[idx]}: R² = {r2:.4f}\")\n",
    "    \n",
    "    return top_features"
   ]
  },
  {
   "cell_type": "markdown",
   "id": "b8d6e472",
   "metadata": {},
   "source": [
    "## [2] Load the config.yaml file"
   ]
  },
  {
   "cell_type": "code",
   "execution_count": 2,
   "id": "2083e7d8",
   "metadata": {},
   "outputs": [],
   "source": [
    "# Get the current script's directory \n",
    "notebook_dir = os.path.dirname(os.path.abspath(\"__file__\"))\n",
    "\n",
    "# Set the project root directory\n",
    "project_root = os.path.abspath(os.path.join(notebook_dir, '..'))\n",
    "\n",
    "# Change the working directory to the project root\n",
    "os.chdir(project_root)\n",
    "\n",
    "with open(os.path.join(project_root, 'config.yaml'), \"r\") as file:\n",
    "    config = yaml.safe_load(file)\n",
    "\n",
    "data_files = config['data']\n",
    "preproc_config = config['preprocessing']\n",
    "model_config = config['models']\n",
    "cv_config = config['cross_validation']\n",
    "random_seed = config['random_seed']\n",
    "outcome_name = config['outcome_name']"
   ]
  },
  {
   "cell_type": "markdown",
   "id": "506da432",
   "metadata": {},
   "source": [
    "## [3] Load and preprocess data"
   ]
  },
  {
   "cell_type": "code",
   "execution_count": 3,
   "id": "2f406e50",
   "metadata": {
    "scrolled": false
   },
   "outputs": [
    {
     "name": "stdout",
     "output_type": "stream",
     "text": [
      "Loading dataset: copy_number_variation\n",
      "Original copy_number_variation shape: (175, 777)\n",
      "Adjusted copy_number_variation shape: (175, 777)\n",
      "Variances shape for copy_number_variation: (777,)\n",
      "Augmented copy_number_variation shape: (525, 50)\n",
      "Loading dataset: drug_response\n",
      "Original drug_response shape: (175, 810)\n",
      "Adjusted drug_response shape: (175, 810)\n",
      "Variances shape for drug_response: (810,)\n",
      "Augmented drug_response shape: (525, 50)\n",
      "Loading dataset: metabolomics\n",
      "Original metabolomics shape: (175, 225)\n",
      "Adjusted metabolomics shape: (175, 225)\n",
      "Variances shape for metabolomics: (225,)\n",
      "Augmented metabolomics shape: (525, 50)\n",
      "Loading dataset: methylation\n",
      "Original methylation shape: (175, 14608)\n",
      "Adjusted methylation shape: (175, 14608)\n",
      "Variances shape for methylation: (14608,)\n",
      "Augmented methylation shape: (525, 50)\n",
      "Loading dataset: transcriptomics\n",
      "Original transcriptomics shape: (175, 15278)\n",
      "Adjusted transcriptomics shape: (175, 15278)\n",
      "Variances shape for transcriptomics: (15278,)\n",
      "Augmented transcriptomics shape: (525, 50)\n",
      "Loading dataset: crisprcas9\n",
      "Original crisprcas9 shape: (175, 17931)\n",
      "Adjusted crisprcas9 shape: (175, 17931)\n",
      "Variances shape for crisprcas9: (17931,)\n",
      "Augmented crisprcas9 shape: (525, 50)\n",
      "Original proteomics shape: (175, 4922)\n",
      "Augmented proteomics shape: (525, 4922)\n",
      "Combined input shape for Linear Regression: (525, 300)\n"
     ]
    }
   ],
   "source": [
    "# Set random seeds for reproducibility\n",
    "random.seed(random_seed)\n",
    "np.random.seed(random_seed)\n",
    "tf.random.set_seed(random_seed)\n",
    "\n",
    "# Define data names, excluding outcome_name and gene_fusions. I think the information from gene fusion would be harmful for our prediction because of ambiguity of the effects. So, I decdied to remove it from my data used for analysis.\n",
    "data_names = [name for name in data_files.keys() if name != outcome_name and name != 'gene_fusions']\n",
    "\n",
    "input_data = {}\n",
    "scaler = StandardScaler()\n",
    "for name in data_names:\n",
    "    print(f\"Loading dataset: {name}\")\n",
    "    data = pd.read_csv(data_files[name], index_col=0).astype('float32').values\n",
    "    print(f\"Original {name} shape: {data.shape}\")\n",
    "    \n",
    "    if data.ndim == 1:\n",
    "        data = data.reshape(-1, 1)\n",
    "    print(f\"Adjusted {name} shape: {data.shape}\")\n",
    "    \n",
    "    variances = np.var(data, axis=0)\n",
    "    print(f\"Variances shape for {name}: {variances.shape}\")\n",
    "    \n",
    "    n_features = data.shape[1]\n",
    "    top_features = min(preproc_config['top_features'], n_features)\n",
    "    top_indices = np.argsort(variances)[-top_features:]\n",
    "    data = scaler.fit_transform(data[:, top_indices])\n",
    "    data = augment_data(data, factor=preproc_config['augmentation_factor'], seed=random_seed)\n",
    "    print(f\"Augmented {name} shape: {data.shape}\")\n",
    "    \n",
    "    input_data[name] = data\n",
    "\n",
    "# Load and augment outcome data\n",
    "outcome_data = pd.read_csv(data_files[outcome_name], index_col=0).astype('float32').values\n",
    "print(f\"Original {outcome_name} shape: {outcome_data.shape}\")\n",
    "if outcome_data.ndim == 1:\n",
    "    outcome_data = outcome_data.reshape(-1, 1)\n",
    "outcome_data = augment_data(outcome_data, factor=preproc_config['augmentation_factor'], seed=random_seed)\n",
    "print(f\"Augmented {outcome_name} shape: {outcome_data.shape}\")\n",
    "\n",
    "# Verify sample sizes dynamically\n",
    "total_samples = input_data[data_names[0]].shape[0]\n",
    "for name in data_names:\n",
    "    assert input_data[name].shape[0] == total_samples, f\"Sample size mismatch for {name}: {input_data[name].shape[0]}\"\n",
    "assert outcome_data.shape[0] == total_samples, f\"{outcome_name} sample size mismatch: {outcome_data.shape[0]}\"\n",
    "\n",
    "# Combine input data for Linear Regression. As a basic model, I used multivariate multiple linear regression to this task. \n",
    "combined_input = np.concatenate([input_data[name] for name in data_names], axis=1)\n",
    "print(f\"Combined input shape for Linear Regression: {combined_input.shape}\")\n",
    "\n",
    "# Define K-Fold Cross Validation from config\n",
    "kf = KFold(n_splits=cv_config['n_folds'], shuffle=True, random_state=random_seed)\n",
    "fold_results = {model: [] for model in model_config.keys()}"
   ]
  },
  {
   "cell_type": "markdown",
   "id": "17b3d959",
   "metadata": {},
   "source": [
    "## [4] Model training and evaluation"
   ]
  },
  {
   "cell_type": "code",
   "execution_count": 5,
   "id": "d6f2aa37",
   "metadata": {
    "scrolled": false
   },
   "outputs": [
    {
     "name": "stdout",
     "output_type": "stream",
     "text": [
      "INFO:tensorflow:Mixed precision compatibility check (mixed_float16): OK\n",
      "Your GPU will likely run quickly with dtype policy mixed_float16 as it has compute capability of at least 7.0. Your GPU: NVIDIA T400 4GB, compute capability 7.5\n",
      "\n",
      "Processing Fold 1\n",
      "Linear Regression Fold 1 - MSE: 0.0926, MAE: 0.1318, Avg Pearson Correlation: 0.8856, R² Score: 0.7499\n"
     ]
    },
    {
     "data": {
      "application/vnd.jupyter.widget-view+json": {
       "model_id": "d4b5af6919f14feba84e4b25c005cd17",
       "version_major": 2,
       "version_minor": 0
      },
      "text/plain": [
       "0epoch [00:00, ?epoch/s]"
      ]
     },
     "metadata": {},
     "output_type": "display_data"
    },
    {
     "data": {
      "application/vnd.jupyter.widget-view+json": {
       "model_id": "",
       "version_major": 2,
       "version_minor": 0
      },
      "text/plain": [
       "0batch [00:00, ?batch/s]"
      ]
     },
     "metadata": {},
     "output_type": "display_data"
    },
    {
     "name": "stdout",
     "output_type": "stream",
     "text": [
      "\n",
      "Processing Fold 1\n",
      "Linear Regression Fold 1 - MSE: 0.0894, MAE: 0.1279, Avg Pearson Correlation: 0.8953, R² Score: 0.7646\n"
     ]
    },
    {
     "data": {
      "application/vnd.jupyter.widget-view+json": {
       "model_id": "f2914fea9649492ea11b386ab2351c3d",
       "version_major": 2,
       "version_minor": 0
      },
      "text/plain": [
       "0epoch [00:00, ?epoch/s]"
      ]
     },
     "metadata": {},
     "output_type": "display_data"
    },
    {
     "data": {
      "application/vnd.jupyter.widget-view+json": {
       "model_id": "",
       "version_major": 2,
       "version_minor": 0
      },
      "text/plain": [
       "0batch [00:00, ?batch/s]"
      ]
     },
     "metadata": {},
     "output_type": "display_data"
    },
    {
     "name": "stdout",
     "output_type": "stream",
     "text": [
      "9/9 [==============================] - 2s 59ms/step\n",
      "Self-Attention Fold 1 - MSE: 0.1105, MAE: 0.2191, Avg Pearson Correlation: 0.8793, R² Score: 0.7167\n"
     ]
    },
    {
     "data": {
      "application/vnd.jupyter.widget-view+json": {
       "model_id": "4d5736f285e34c6c86d6dbbe4c832b86",
       "version_major": 2,
       "version_minor": 0
      },
      "text/plain": [
       "0epoch [00:00, ?epoch/s]"
      ]
     },
     "metadata": {},
     "output_type": "display_data"
    },
    {
     "data": {
      "application/vnd.jupyter.widget-view+json": {
       "model_id": "",
       "version_major": 2,
       "version_minor": 0
      },
      "text/plain": [
       "0batch [00:00, ?batch/s]"
      ]
     },
     "metadata": {},
     "output_type": "display_data"
    },
    {
     "name": "stdout",
     "output_type": "stream",
     "text": [
      "9/9 [==============================] - 1s 18ms/step\n",
      "RNN Fold 1 - MSE: 0.2754, MAE: 0.3797, Avg Pearson Correlation: 0.5865, R² Score: 0.3411\n"
     ]
    }
   ],
   "source": [
    "# Perform K-Fold Cross Validation\n",
    "# Defined a K-Fold\n",
    "kf = KFold(n_splits=cv_config['n_folds'], shuffle=True, random_state=random_seed)\n",
    "fold_results = {model: [] for model in model_config.keys()}\n",
    "\n",
    "fold = 1\n",
    "for train_idx, test_idx in kf.split(combined_input):\n",
    "    print(f\"\\nProcessing Fold {fold}\")\n",
    "    \n",
    "    # For a linear model, I combined the all features so it cannot be distinguished in the algorithm. \n",
    "    train_input = combined_input[train_idx]\n",
    "    test_input = combined_input[test_idx]\n",
    "    \n",
    "    # For outcome, proteomics data is located with index for train and test. \n",
    "    train_outcome = outcome_data[train_idx]\n",
    "    test_outcome = outcome_data[test_idx]\n",
    "    \n",
    "    # For self attention, I used each dataset individually and run self atteention to each of them and combine the results in the end with outcome. \n",
    "    train_data = {name: input_data[name][train_idx] for name in sorted(model_config['self_attention']['names'])}\n",
    "    test_data = {name: input_data[name][test_idx] for name in data_names}\n",
    "    \n",
    "    # test data setup for each method\n",
    "    test_data_rnn = {name: data[..., np.newaxis] for name, data in test_data.items()}\n",
    "    test_data_self = [test_data[name] for name in sorted(model_config['self_attention']['names'])]\n",
    "    test_data_cross = [\n",
    "        *[test_data[name] for name in sorted(model_config['cross_attention']['self_attention_names'])],\n",
    "        *[test_data[name] for name in sorted(model_config['cross_attention']['cross_attention_names'])]\n",
    "    ]\n",
    "\n",
    "    # Linear regression model fitting \n",
    "    linear_model = LinearRegression()\n",
    "    linear_model.fit(train_input, train_outcome)\n",
    "    linear_pred = linear_model.predict(test_input)\n",
    "    evaluate_performance(test_outcome, linear_pred, \"linear_regression\", fold_results, fold, display_name=\"Linear Regression\")\n",
    "\n",
    "    # Self-attention model fitting \n",
    "    self_attention_model = build_self_attention_model(train_data, model_config['self_attention'])\n",
    "    self_attention_model.fit(\n",
    "    [train_data[name] for name in sorted(model_config['self_attention']['names'])],\n",
    "    train_outcome,\n",
    "    epochs=model_config['self_attention']['training']['epochs'],\n",
    "    batch_size=model_config['self_attention']['training']['batch_size'],\n",
    "    validation_split=model_config['self_attention']['training']['validation_split'],\n",
    "    callbacks=[TqdmCallback(verbose=1)],\n",
    "    verbose=0\n",
    "    )\n",
    "\n",
    "    self_pred = self_attention_model.predict(test_data_self)\n",
    "    evaluate_performance(test_outcome, self_pred, \"self_attention\", fold_results, fold, display_name=\"Self-Attention\")\n",
    "   \n",
    "   # RNN model fitting\n",
    "    input_data_rnn = {name: train_data[name][..., np.newaxis] for name in sorted(model_config['rnn']['names'])}\n",
    "    rnn_model = build_rnn_model(input_data, model_config['rnn'])\n",
    "    rnn_model.fit(\n",
    "            [input_data_rnn[name] for name in sorted(model_config['rnn']['names'])],\n",
    "            train_outcome,\n",
    "            epochs=model_config['rnn']['training']['epochs'],\n",
    "            batch_size=model_config['rnn']['training']['batch_size'],\n",
    "            validation_split=model_config['rnn']['training']['validation_split'],\n",
    "            callbacks=[TqdmCallback(verbose=1), \n",
    "                       tf.keras.callbacks.EarlyStopping(monitor='val_loss', patience=model_config['rnn']['training']['patience'])],\n",
    "            verbose=0\n",
    "        )\n",
    "    rnn_pred = rnn_model.predict([test_data_rnn[name] for name in sorted(model_config['rnn']['names'])])\n",
    "    evaluate_performance(test_outcome, rnn_pred, \"rnn\", fold_results, fold, display_name=\"RNN\")\n",
    "\n",
    "    fold += 1"
   ]
  },
  {
   "cell_type": "markdown",
   "id": "9c5a1b05",
   "metadata": {},
   "source": [
    "## [5] Visualize the model performance to compare"
   ]
  },
  {
   "cell_type": "code",
   "execution_count": 7,
   "id": "be03d8b6",
   "metadata": {
    "scrolled": true
   },
   "outputs": [
    {
     "name": "stdout",
     "output_type": "stream",
     "text": [
      "\n",
      "Average Linear Regression - MSE: 0.0910, MAE: 0.1299, Avg Pearson Correlation: 0.8904, R² Score: 0.7573\n",
      "\n",
      "Average Self Attention - MSE: 0.1105, MAE: 0.2191, Avg Pearson Correlation: 0.8793, R² Score: 0.7167\n",
      "\n",
      "Average Rnn - MSE: 0.2754, MAE: 0.3797, Avg Pearson Correlation: 0.5865, R² Score: 0.3411\n"
     ]
    },
    {
     "name": "stderr",
     "output_type": "stream",
     "text": [
      "C:\\Users\\Public\\Documents\\ESTsoft\\CreatorTemp\\ipykernel_36348\\3563562902.py:250: FutureWarning: \n",
      "\n",
      "Passing `palette` without assigning `hue` is deprecated and will be removed in v0.14.0. Assign the `x` variable to `hue` and set `legend=False` for the same effect.\n",
      "\n",
      "  sns.barplot(x=display_names, y=mse_values, ax=ax1, palette=\"Blues_d\")\n",
      "C:\\Users\\Public\\Documents\\ESTsoft\\CreatorTemp\\ipykernel_36348\\3563562902.py:254: FutureWarning: \n",
      "\n",
      "Passing `palette` without assigning `hue` is deprecated and will be removed in v0.14.0. Assign the `x` variable to `hue` and set `legend=False` for the same effect.\n",
      "\n",
      "  sns.barplot(x=display_names, y=mae_values, ax=ax2, palette=\"Purples_d\")\n",
      "C:\\Users\\Public\\Documents\\ESTsoft\\CreatorTemp\\ipykernel_36348\\3563562902.py:258: FutureWarning: \n",
      "\n",
      "Passing `palette` without assigning `hue` is deprecated and will be removed in v0.14.0. Assign the `x` variable to `hue` and set `legend=False` for the same effect.\n",
      "\n",
      "  sns.barplot(x=display_names, y=pearson_values, ax=ax3, palette=\"Greens_d\")\n",
      "C:\\Users\\Public\\Documents\\ESTsoft\\CreatorTemp\\ipykernel_36348\\3563562902.py:262: FutureWarning: \n",
      "\n",
      "Passing `palette` without assigning `hue` is deprecated and will be removed in v0.14.0. Assign the `x` variable to `hue` and set `legend=False` for the same effect.\n",
      "\n",
      "  sns.barplot(x=display_names, y=r2_values, ax=ax4, palette=\"Reds_d\")\n"
     ]
    },
    {
     "data": {
      "image/png": "[encoded data removed]",
      "text/plain": [
       "<Figure size 2000x500 with 4 Axes>"
      ]
     },
     "metadata": {},
     "output_type": "display_data"
    }
   ],
   "source": [
    "# Calculate and print average results across folds\n",
    "# models = [m for m in model_config.keys()]\n",
    "models = [m for m in model_config.keys() if m != 'cross_attention']\n",
    "avg_results = {}\n",
    "for model in models:\n",
    "    mse_avg = np.mean([r['mse'] for r in fold_results[model]])\n",
    "    mae_avg = np.mean([r['mae'] for r in fold_results[model]])\n",
    "    pearson_avg = np.mean([r['pearson'] for r in fold_results[model]])\n",
    "    r2_avg = np.mean([r['r2'] for r in fold_results[model]])\n",
    "    display_name = model.replace('_', ' ').title()\n",
    "    print(f\"\\nAverage {display_name} - MSE: {mse_avg:.4f}, MAE: {mae_avg:.4f}, Avg Pearson Correlation: {pearson_avg:.4f}, R² Score: {r2_avg:.4f}\")\n",
    "    avg_results[model] = {'mse': mse_avg, 'mae': mae_avg, 'pearson': pearson_avg, 'r2': r2_avg}\n",
    "\n",
    "# Plot results\n",
    "plot_results(avg_results, models)"
   ]
  },
  {
   "cell_type": "markdown",
   "id": "8a7335f4",
   "metadata": {},
   "source": [
    "## [6] Calculate R² scores for each feature and output a list of top-performing features"
   ]
  },
  {
   "cell_type": "code",
   "execution_count": 8,
   "id": "744b584a",
   "metadata": {},
   "outputs": [],
   "source": [
    "# Example usage after model training and prediction\n",
    "# Assumes model has been trained and predictions are made\n",
    "self_pred = self_attention_model.predict(test_data_self)\n",
    "\n",
    "# Load feature names from outcome_data (assuming it's a DataFrame)\n",
    "import pandas as pd\n",
    "outcome_df = pd.read_csv(data_files[config['outcome_name']], index_col=0)\n",
    "feature_names = list(outcome_df.columns)\n",
    "\n",
    "# Run feature performance analysis\n",
    "top_features = analyze_feature_performance(test_outcome, self_pred, feature_names=feature_names, top_n=10)"
   ]
  },
  {
   "cell_type": "markdown",
   "id": "eae2d62c",
   "metadata": {},
   "source": [
    "Top 10 Best Predicted Features:\n",
    "1)  PLEC: R² = 0.9673\n",
    "2)  LMNA: R² = 0.9615\n",
    "3)  STXBP1: R² = 0.9596\n",
    "4)  ANXA2: R² = 0.9582\n",
    "5)  ITGB1: R² = 0.9565\n",
    "6)  VIM: R² = 0.9560\n",
    "7)  KRT19: R² = 0.9534\n",
    "8)  KRT18: R² = 0.9534\n",
    "9)  ASPH: R² = 0.9532\n",
    "10)  KRT7: R² = 0.9498"
   ]
  }
 ],
 "metadata": {
  "kernelspec": {
   "display_name": "Python 3 (ipykernel)",
   "language": "python",
   "name": "python3"
  },
  "language_info": {
   "codemirror_mode": {
    "name": "ipython",
    "version": 3
   },
   "file_extension": ".py",
   "mimetype": "text/x-python",
   "name": "python",
   "nbconvert_exporter": "python",
   "pygments_lexer": "ipython3",
   "version": "3.10.8"
  }
 },
 "nbformat": 4,
 "nbformat_minor": 5
}
